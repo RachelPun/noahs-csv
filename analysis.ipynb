{
 "cells": [
  {
   "cell_type": "markdown",
   "metadata": {},
   "source": [
    "# Setup"
   ]
  },
  {
   "cell_type": "markdown",
   "metadata": {},
   "source": [
    "## imports"
   ]
  },
  {
   "cell_type": "code",
   "execution_count": 37,
   "metadata": {},
   "outputs": [],
   "source": [
    "import pandas as pd\n",
    "from datetime import datetime"
   ]
  },
  {
   "cell_type": "markdown",
   "metadata": {},
   "source": [
    "## load data"
   ]
  },
  {
   "cell_type": "code",
   "execution_count": 2,
   "metadata": {},
   "outputs": [],
   "source": [
    "customers = pd.read_csv(\"noahs-customers.csv\")\n",
    "items = pd.read_csv(\"noahs-orders_items.csv\")\n",
    "orders = pd.read_csv(\"noahs-orders.csv\")\n",
    "products = pd.read_csv(\"noahs-products.csv\")"
   ]
  },
  {
   "cell_type": "code",
   "execution_count": 3,
   "metadata": {},
   "outputs": [
    {
     "data": {
      "text/html": [
       "<div>\n",
       "<style scoped>\n",
       "    .dataframe tbody tr th:only-of-type {\n",
       "        vertical-align: middle;\n",
       "    }\n",
       "\n",
       "    .dataframe tbody tr th {\n",
       "        vertical-align: top;\n",
       "    }\n",
       "\n",
       "    .dataframe thead th {\n",
       "        text-align: right;\n",
       "    }\n",
       "</style>\n",
       "<table border=\"1\" class=\"dataframe\">\n",
       "  <thead>\n",
       "    <tr style=\"text-align: right;\">\n",
       "      <th></th>\n",
       "      <th>customerid</th>\n",
       "      <th>name</th>\n",
       "      <th>address</th>\n",
       "      <th>citystatezip</th>\n",
       "      <th>birthdate</th>\n",
       "      <th>phone</th>\n",
       "    </tr>\n",
       "  </thead>\n",
       "  <tbody>\n",
       "    <tr>\n",
       "      <th>0</th>\n",
       "      <td>1001</td>\n",
       "      <td>Jack Quinn</td>\n",
       "      <td>201 E Park St</td>\n",
       "      <td>Los Angeles, CA 91343</td>\n",
       "      <td>1960-05-14</td>\n",
       "      <td>805-287-8515</td>\n",
       "    </tr>\n",
       "    <tr>\n",
       "      <th>1</th>\n",
       "      <td>1002</td>\n",
       "      <td>David Powell</td>\n",
       "      <td>224C Tysens Ln</td>\n",
       "      <td>Staten Island, NY 10306</td>\n",
       "      <td>1978-04-04</td>\n",
       "      <td>516-768-1652</td>\n",
       "    </tr>\n",
       "    <tr>\n",
       "      <th>2</th>\n",
       "      <td>1003</td>\n",
       "      <td>Carrie Green</td>\n",
       "      <td>1608 W 53rd Way</td>\n",
       "      <td>Tampa, FL 33614</td>\n",
       "      <td>1969-01-21</td>\n",
       "      <td>727-209-0470</td>\n",
       "    </tr>\n",
       "    <tr>\n",
       "      <th>3</th>\n",
       "      <td>1004</td>\n",
       "      <td>Steven Miller</td>\n",
       "      <td>178½ E 7th St</td>\n",
       "      <td>Manhattan, NY 10009</td>\n",
       "      <td>1953-08-17</td>\n",
       "      <td>607-941-9563</td>\n",
       "    </tr>\n",
       "    <tr>\n",
       "      <th>4</th>\n",
       "      <td>1005</td>\n",
       "      <td>Christine Powers</td>\n",
       "      <td>270 W 242nd St</td>\n",
       "      <td>Bronx, NY 10463</td>\n",
       "      <td>1983-06-06</td>\n",
       "      <td>212-759-9043</td>\n",
       "    </tr>\n",
       "    <tr>\n",
       "      <th>...</th>\n",
       "      <td>...</td>\n",
       "      <td>...</td>\n",
       "      <td>...</td>\n",
       "      <td>...</td>\n",
       "      <td>...</td>\n",
       "      <td>...</td>\n",
       "    </tr>\n",
       "    <tr>\n",
       "      <th>11075</th>\n",
       "      <td>12075</td>\n",
       "      <td>Catherine Wells</td>\n",
       "      <td>693 E 101st St</td>\n",
       "      <td>Brooklyn, NY 11236</td>\n",
       "      <td>1972-07-06</td>\n",
       "      <td>716-656-2836</td>\n",
       "    </tr>\n",
       "    <tr>\n",
       "      <th>11076</th>\n",
       "      <td>12076</td>\n",
       "      <td>Kevin Cooper</td>\n",
       "      <td>360 Edgecombe Ave</td>\n",
       "      <td>Manhattan, NY 10031</td>\n",
       "      <td>1994-07-22</td>\n",
       "      <td>315-496-6981</td>\n",
       "    </tr>\n",
       "    <tr>\n",
       "      <th>11077</th>\n",
       "      <td>12077</td>\n",
       "      <td>Darius Johnson</td>\n",
       "      <td>2247 Grand Ave</td>\n",
       "      <td>Bronx, NY 10453</td>\n",
       "      <td>1989-06-18</td>\n",
       "      <td>716-797-4450</td>\n",
       "    </tr>\n",
       "    <tr>\n",
       "      <th>11078</th>\n",
       "      <td>12078</td>\n",
       "      <td>Ryan Jones</td>\n",
       "      <td>1538 Park Pl SW</td>\n",
       "      <td>Los Angeles, CA 90016</td>\n",
       "      <td>1949-03-12</td>\n",
       "      <td>415-584-2656</td>\n",
       "    </tr>\n",
       "    <tr>\n",
       "      <th>11079</th>\n",
       "      <td>12079</td>\n",
       "      <td>Gregory Weiss</td>\n",
       "      <td>113 Mackenzie St</td>\n",
       "      <td>Brooklyn, NY 11235</td>\n",
       "      <td>1990-08-27</td>\n",
       "      <td>516-736-1869</td>\n",
       "    </tr>\n",
       "  </tbody>\n",
       "</table>\n",
       "<p>11080 rows × 6 columns</p>\n",
       "</div>"
      ],
      "text/plain": [
       "       customerid              name            address  \\\n",
       "0            1001        Jack Quinn      201 E Park St   \n",
       "1            1002      David Powell     224C Tysens Ln   \n",
       "2            1003      Carrie Green    1608 W 53rd Way   \n",
       "3            1004     Steven Miller      178½ E 7th St   \n",
       "4            1005  Christine Powers     270 W 242nd St   \n",
       "...           ...               ...                ...   \n",
       "11075       12075   Catherine Wells     693 E 101st St   \n",
       "11076       12076      Kevin Cooper  360 Edgecombe Ave   \n",
       "11077       12077    Darius Johnson     2247 Grand Ave   \n",
       "11078       12078        Ryan Jones    1538 Park Pl SW   \n",
       "11079       12079     Gregory Weiss   113 Mackenzie St   \n",
       "\n",
       "                  citystatezip   birthdate         phone  \n",
       "0        Los Angeles, CA 91343  1960-05-14  805-287-8515  \n",
       "1      Staten Island, NY 10306  1978-04-04  516-768-1652  \n",
       "2              Tampa, FL 33614  1969-01-21  727-209-0470  \n",
       "3          Manhattan, NY 10009  1953-08-17  607-941-9563  \n",
       "4              Bronx, NY 10463  1983-06-06  212-759-9043  \n",
       "...                        ...         ...           ...  \n",
       "11075       Brooklyn, NY 11236  1972-07-06  716-656-2836  \n",
       "11076      Manhattan, NY 10031  1994-07-22  315-496-6981  \n",
       "11077          Bronx, NY 10453  1989-06-18  716-797-4450  \n",
       "11078    Los Angeles, CA 90016  1949-03-12  415-584-2656  \n",
       "11079       Brooklyn, NY 11235  1990-08-27  516-736-1869  \n",
       "\n",
       "[11080 rows x 6 columns]"
      ]
     },
     "execution_count": 3,
     "metadata": {},
     "output_type": "execute_result"
    }
   ],
   "source": [
    "customers"
   ]
  },
  {
   "cell_type": "code",
   "execution_count": 4,
   "metadata": {},
   "outputs": [
    {
     "data": {
      "text/html": [
       "<div>\n",
       "<style scoped>\n",
       "    .dataframe tbody tr th:only-of-type {\n",
       "        vertical-align: middle;\n",
       "    }\n",
       "\n",
       "    .dataframe tbody tr th {\n",
       "        vertical-align: top;\n",
       "    }\n",
       "\n",
       "    .dataframe thead th {\n",
       "        text-align: right;\n",
       "    }\n",
       "</style>\n",
       "<table border=\"1\" class=\"dataframe\">\n",
       "  <thead>\n",
       "    <tr style=\"text-align: right;\">\n",
       "      <th></th>\n",
       "      <th>orderid</th>\n",
       "      <th>sku</th>\n",
       "      <th>qty</th>\n",
       "      <th>unit_price</th>\n",
       "    </tr>\n",
       "  </thead>\n",
       "  <tbody>\n",
       "    <tr>\n",
       "      <th>0</th>\n",
       "      <td>1001</td>\n",
       "      <td>COL0820</td>\n",
       "      <td>1</td>\n",
       "      <td>25.52</td>\n",
       "    </tr>\n",
       "    <tr>\n",
       "      <th>1</th>\n",
       "      <td>1002</td>\n",
       "      <td>TOY8907</td>\n",
       "      <td>1</td>\n",
       "      <td>12.92</td>\n",
       "    </tr>\n",
       "    <tr>\n",
       "      <th>2</th>\n",
       "      <td>1002</td>\n",
       "      <td>KIT5813</td>\n",
       "      <td>1</td>\n",
       "      <td>7.99</td>\n",
       "    </tr>\n",
       "    <tr>\n",
       "      <th>3</th>\n",
       "      <td>1002</td>\n",
       "      <td>KIT3981</td>\n",
       "      <td>2</td>\n",
       "      <td>7.21</td>\n",
       "    </tr>\n",
       "    <tr>\n",
       "      <th>4</th>\n",
       "      <td>1003</td>\n",
       "      <td>KIT7098</td>\n",
       "      <td>1</td>\n",
       "      <td>12.53</td>\n",
       "    </tr>\n",
       "    <tr>\n",
       "      <th>...</th>\n",
       "      <td>...</td>\n",
       "      <td>...</td>\n",
       "      <td>...</td>\n",
       "      <td>...</td>\n",
       "    </tr>\n",
       "    <tr>\n",
       "      <th>427253</th>\n",
       "      <td>215206</td>\n",
       "      <td>KIT7684</td>\n",
       "      <td>1</td>\n",
       "      <td>13.94</td>\n",
       "    </tr>\n",
       "    <tr>\n",
       "      <th>427254</th>\n",
       "      <td>215206</td>\n",
       "      <td>KIT9250</td>\n",
       "      <td>1</td>\n",
       "      <td>3.99</td>\n",
       "    </tr>\n",
       "    <tr>\n",
       "      <th>427255</th>\n",
       "      <td>215206</td>\n",
       "      <td>HOM2099</td>\n",
       "      <td>1</td>\n",
       "      <td>91.85</td>\n",
       "    </tr>\n",
       "    <tr>\n",
       "      <th>427256</th>\n",
       "      <td>215207</td>\n",
       "      <td>PET0148</td>\n",
       "      <td>1</td>\n",
       "      <td>5.30</td>\n",
       "    </tr>\n",
       "    <tr>\n",
       "      <th>427257</th>\n",
       "      <td>215207</td>\n",
       "      <td>PET7876</td>\n",
       "      <td>1</td>\n",
       "      <td>5.74</td>\n",
       "    </tr>\n",
       "  </tbody>\n",
       "</table>\n",
       "<p>427258 rows × 4 columns</p>\n",
       "</div>"
      ],
      "text/plain": [
       "        orderid      sku  qty  unit_price\n",
       "0          1001  COL0820    1       25.52\n",
       "1          1002  TOY8907    1       12.92\n",
       "2          1002  KIT5813    1        7.99\n",
       "3          1002  KIT3981    2        7.21\n",
       "4          1003  KIT7098    1       12.53\n",
       "...         ...      ...  ...         ...\n",
       "427253   215206  KIT7684    1       13.94\n",
       "427254   215206  KIT9250    1        3.99\n",
       "427255   215206  HOM2099    1       91.85\n",
       "427256   215207  PET0148    1        5.30\n",
       "427257   215207  PET7876    1        5.74\n",
       "\n",
       "[427258 rows x 4 columns]"
      ]
     },
     "execution_count": 4,
     "metadata": {},
     "output_type": "execute_result"
    }
   ],
   "source": [
    "items"
   ]
  },
  {
   "cell_type": "code",
   "execution_count": 5,
   "metadata": {},
   "outputs": [
    {
     "data": {
      "text/html": [
       "<div>\n",
       "<style scoped>\n",
       "    .dataframe tbody tr th:only-of-type {\n",
       "        vertical-align: middle;\n",
       "    }\n",
       "\n",
       "    .dataframe tbody tr th {\n",
       "        vertical-align: top;\n",
       "    }\n",
       "\n",
       "    .dataframe thead th {\n",
       "        text-align: right;\n",
       "    }\n",
       "</style>\n",
       "<table border=\"1\" class=\"dataframe\">\n",
       "  <thead>\n",
       "    <tr style=\"text-align: right;\">\n",
       "      <th></th>\n",
       "      <th>orderid</th>\n",
       "      <th>customerid</th>\n",
       "      <th>ordered</th>\n",
       "      <th>shipped</th>\n",
       "      <th>items</th>\n",
       "      <th>total</th>\n",
       "    </tr>\n",
       "  </thead>\n",
       "  <tbody>\n",
       "    <tr>\n",
       "      <th>0</th>\n",
       "      <td>1001</td>\n",
       "      <td>4308</td>\n",
       "      <td>2017-01-31 00:32:19</td>\n",
       "      <td>2017-01-31 07:15:00</td>\n",
       "      <td>NaN</td>\n",
       "      <td>25.52</td>\n",
       "    </tr>\n",
       "    <tr>\n",
       "      <th>1</th>\n",
       "      <td>1002</td>\n",
       "      <td>11683</td>\n",
       "      <td>2017-01-31 00:58:31</td>\n",
       "      <td>2017-01-31 18:00:00</td>\n",
       "      <td>NaN</td>\n",
       "      <td>35.33</td>\n",
       "    </tr>\n",
       "    <tr>\n",
       "      <th>2</th>\n",
       "      <td>1003</td>\n",
       "      <td>5676</td>\n",
       "      <td>2017-01-31 01:34:40</td>\n",
       "      <td>2017-01-31 09:00:00</td>\n",
       "      <td>NaN</td>\n",
       "      <td>30.79</td>\n",
       "    </tr>\n",
       "    <tr>\n",
       "      <th>3</th>\n",
       "      <td>1004</td>\n",
       "      <td>3097</td>\n",
       "      <td>2017-01-31 02:31:24</td>\n",
       "      <td>2017-01-31 19:45:00</td>\n",
       "      <td>NaN</td>\n",
       "      <td>77.60</td>\n",
       "    </tr>\n",
       "    <tr>\n",
       "      <th>4</th>\n",
       "      <td>1005</td>\n",
       "      <td>10374</td>\n",
       "      <td>2017-01-31 02:46:09</td>\n",
       "      <td>2017-01-31 14:45:00</td>\n",
       "      <td>NaN</td>\n",
       "      <td>109.04</td>\n",
       "    </tr>\n",
       "    <tr>\n",
       "      <th>...</th>\n",
       "      <td>...</td>\n",
       "      <td>...</td>\n",
       "      <td>...</td>\n",
       "      <td>...</td>\n",
       "      <td>...</td>\n",
       "      <td>...</td>\n",
       "    </tr>\n",
       "    <tr>\n",
       "      <th>214202</th>\n",
       "      <td>215203</td>\n",
       "      <td>2549</td>\n",
       "      <td>2022-12-16 20:58:55</td>\n",
       "      <td>2022-12-17 16:45:00</td>\n",
       "      <td>NaN</td>\n",
       "      <td>63.52</td>\n",
       "    </tr>\n",
       "    <tr>\n",
       "      <th>214203</th>\n",
       "      <td>215204</td>\n",
       "      <td>3343</td>\n",
       "      <td>2022-12-16 21:25:51</td>\n",
       "      <td>2022-12-16 21:25:51</td>\n",
       "      <td>NaN</td>\n",
       "      <td>43.35</td>\n",
       "    </tr>\n",
       "    <tr>\n",
       "      <th>214204</th>\n",
       "      <td>215205</td>\n",
       "      <td>3604</td>\n",
       "      <td>2022-12-16 21:28:40</td>\n",
       "      <td>2022-12-18 18:00:00</td>\n",
       "      <td>NaN</td>\n",
       "      <td>59.72</td>\n",
       "    </tr>\n",
       "    <tr>\n",
       "      <th>214205</th>\n",
       "      <td>215206</td>\n",
       "      <td>11486</td>\n",
       "      <td>2022-12-16 21:32:31</td>\n",
       "      <td>2022-12-18 08:30:00</td>\n",
       "      <td>NaN</td>\n",
       "      <td>109.78</td>\n",
       "    </tr>\n",
       "    <tr>\n",
       "      <th>214206</th>\n",
       "      <td>215207</td>\n",
       "      <td>3283</td>\n",
       "      <td>2022-12-16 22:33:53</td>\n",
       "      <td>2022-12-18 15:30:00</td>\n",
       "      <td>NaN</td>\n",
       "      <td>11.04</td>\n",
       "    </tr>\n",
       "  </tbody>\n",
       "</table>\n",
       "<p>214207 rows × 6 columns</p>\n",
       "</div>"
      ],
      "text/plain": [
       "        orderid  customerid              ordered              shipped  items  \\\n",
       "0          1001        4308  2017-01-31 00:32:19  2017-01-31 07:15:00    NaN   \n",
       "1          1002       11683  2017-01-31 00:58:31  2017-01-31 18:00:00    NaN   \n",
       "2          1003        5676  2017-01-31 01:34:40  2017-01-31 09:00:00    NaN   \n",
       "3          1004        3097  2017-01-31 02:31:24  2017-01-31 19:45:00    NaN   \n",
       "4          1005       10374  2017-01-31 02:46:09  2017-01-31 14:45:00    NaN   \n",
       "...         ...         ...                  ...                  ...    ...   \n",
       "214202   215203        2549  2022-12-16 20:58:55  2022-12-17 16:45:00    NaN   \n",
       "214203   215204        3343  2022-12-16 21:25:51  2022-12-16 21:25:51    NaN   \n",
       "214204   215205        3604  2022-12-16 21:28:40  2022-12-18 18:00:00    NaN   \n",
       "214205   215206       11486  2022-12-16 21:32:31  2022-12-18 08:30:00    NaN   \n",
       "214206   215207        3283  2022-12-16 22:33:53  2022-12-18 15:30:00    NaN   \n",
       "\n",
       "         total  \n",
       "0        25.52  \n",
       "1        35.33  \n",
       "2        30.79  \n",
       "3        77.60  \n",
       "4       109.04  \n",
       "...        ...  \n",
       "214202   63.52  \n",
       "214203   43.35  \n",
       "214204   59.72  \n",
       "214205  109.78  \n",
       "214206   11.04  \n",
       "\n",
       "[214207 rows x 6 columns]"
      ]
     },
     "execution_count": 5,
     "metadata": {},
     "output_type": "execute_result"
    }
   ],
   "source": [
    "orders"
   ]
  },
  {
   "cell_type": "code",
   "execution_count": 6,
   "metadata": {},
   "outputs": [
    {
     "data": {
      "text/html": [
       "<div>\n",
       "<style scoped>\n",
       "    .dataframe tbody tr th:only-of-type {\n",
       "        vertical-align: middle;\n",
       "    }\n",
       "\n",
       "    .dataframe tbody tr th {\n",
       "        vertical-align: top;\n",
       "    }\n",
       "\n",
       "    .dataframe thead th {\n",
       "        text-align: right;\n",
       "    }\n",
       "</style>\n",
       "<table border=\"1\" class=\"dataframe\">\n",
       "  <thead>\n",
       "    <tr style=\"text-align: right;\">\n",
       "      <th></th>\n",
       "      <th>sku</th>\n",
       "      <th>desc</th>\n",
       "      <th>wholesale_cost</th>\n",
       "    </tr>\n",
       "  </thead>\n",
       "  <tbody>\n",
       "    <tr>\n",
       "      <th>0</th>\n",
       "      <td>DLI0002</td>\n",
       "      <td>Smoked Whitefish Sandwich</td>\n",
       "      <td>9.33</td>\n",
       "    </tr>\n",
       "    <tr>\n",
       "      <th>1</th>\n",
       "      <td>PET0005</td>\n",
       "      <td>Vegan Cat Food, Turkey &amp; Chicken</td>\n",
       "      <td>4.35</td>\n",
       "    </tr>\n",
       "    <tr>\n",
       "      <th>2</th>\n",
       "      <td>HOM0018</td>\n",
       "      <td>Power Radio (red)</td>\n",
       "      <td>21.81</td>\n",
       "    </tr>\n",
       "    <tr>\n",
       "      <th>3</th>\n",
       "      <td>KIT0034</td>\n",
       "      <td>Azure Ladle</td>\n",
       "      <td>2.81</td>\n",
       "    </tr>\n",
       "    <tr>\n",
       "      <th>4</th>\n",
       "      <td>PET0041</td>\n",
       "      <td>Gluten-free Cat Food, Pumpkin &amp; Pumpkin</td>\n",
       "      <td>4.60</td>\n",
       "    </tr>\n",
       "    <tr>\n",
       "      <th>...</th>\n",
       "      <td>...</td>\n",
       "      <td>...</td>\n",
       "      <td>...</td>\n",
       "    </tr>\n",
       "    <tr>\n",
       "      <th>1119</th>\n",
       "      <td>TOY9939</td>\n",
       "      <td>Transformers Board Game</td>\n",
       "      <td>17.54</td>\n",
       "    </tr>\n",
       "    <tr>\n",
       "      <th>1120</th>\n",
       "      <td>PET9974</td>\n",
       "      <td>Vegan Senior Cat Food, Salmon &amp; Pumpkin</td>\n",
       "      <td>5.00</td>\n",
       "    </tr>\n",
       "    <tr>\n",
       "      <th>1121</th>\n",
       "      <td>PET9988</td>\n",
       "      <td>Gluten-free Senior Cat Food, Chicken &amp; Beef</td>\n",
       "      <td>4.32</td>\n",
       "    </tr>\n",
       "    <tr>\n",
       "      <th>1122</th>\n",
       "      <td>HOM9988</td>\n",
       "      <td>Mini Crockpot (purple)</td>\n",
       "      <td>59.93</td>\n",
       "    </tr>\n",
       "    <tr>\n",
       "      <th>1123</th>\n",
       "      <td>KIT9991</td>\n",
       "      <td>Paper Spatula</td>\n",
       "      <td>0.81</td>\n",
       "    </tr>\n",
       "  </tbody>\n",
       "</table>\n",
       "<p>1124 rows × 3 columns</p>\n",
       "</div>"
      ],
      "text/plain": [
       "          sku                                         desc  wholesale_cost\n",
       "0     DLI0002                    Smoked Whitefish Sandwich            9.33\n",
       "1     PET0005             Vegan Cat Food, Turkey & Chicken            4.35\n",
       "2     HOM0018                            Power Radio (red)           21.81\n",
       "3     KIT0034                                  Azure Ladle            2.81\n",
       "4     PET0041      Gluten-free Cat Food, Pumpkin & Pumpkin            4.60\n",
       "...       ...                                          ...             ...\n",
       "1119  TOY9939                      Transformers Board Game           17.54\n",
       "1120  PET9974      Vegan Senior Cat Food, Salmon & Pumpkin            5.00\n",
       "1121  PET9988  Gluten-free Senior Cat Food, Chicken & Beef            4.32\n",
       "1122  HOM9988                       Mini Crockpot (purple)           59.93\n",
       "1123  KIT9991                                Paper Spatula            0.81\n",
       "\n",
       "[1124 rows x 3 columns]"
      ]
     },
     "execution_count": 6,
     "metadata": {},
     "output_type": "execute_result"
    }
   ],
   "source": [
    "products"
   ]
  },
  {
   "cell_type": "markdown",
   "metadata": {},
   "source": [
    "# Puzzle"
   ]
  },
  {
   "cell_type": "markdown",
   "metadata": {},
   "source": [
    "## 1. private investigator"
   ]
  },
  {
   "cell_type": "code",
   "execution_count": 7,
   "metadata": {},
   "outputs": [],
   "source": [
    "name_phone = pd.DataFrame([customers[\"name\"].apply(lambda x: x.split()[1]),\n",
    "                           customers[\"phone\"].apply(lambda x: x.replace(\"-\", \"\"))]).T"
   ]
  },
  {
   "cell_type": "code",
   "execution_count": 8,
   "metadata": {},
   "outputs": [],
   "source": [
    "name_phone = name_phone[name_phone[\"name\"].str.len() == name_phone[\"phone\"].str.len()]"
   ]
  },
  {
   "cell_type": "code",
   "execution_count": 9,
   "metadata": {},
   "outputs": [],
   "source": [
    "keypad = {\"2\": [\"A\", \"B\", \"C\"],\n",
    "          \"3\": [\"D\", \"E\", \"F\"],\n",
    "          \"4\": [\"G\", \"H\", \"I\"],\n",
    "          \"5\": [\"J\", \"K\", \"L\"],\n",
    "          \"6\": [\"M\", \"N\", \"O\"],\n",
    "          \"7\": [\"P\", \"Q\", \"R\", \"S\"],\n",
    "          \"8\": [\"T\", \"U\", \"V\"],\n",
    "          \"9\": [\"W\", \"X\", \"Y\", \"Z\"]}"
   ]
  },
  {
   "cell_type": "code",
   "execution_count": 10,
   "metadata": {},
   "outputs": [],
   "source": [
    "keypad_reversed = {}\n",
    "\n",
    "for key, values in keypad.items():\n",
    "    for value in values:\n",
    "        keypad_reversed[value] = key"
   ]
  },
  {
   "cell_type": "code",
   "execution_count": 11,
   "metadata": {},
   "outputs": [],
   "source": [
    "def letters2nums(letters: str) -> str:\n",
    "    \"\"\"Iterates through a string of letters;\n",
    "    returns a corresponding string of keypad numbers\"\"\"\n",
    "    \n",
    "    nums = \"\"\n",
    "    \n",
    "    for letter in letters.upper():\n",
    "        nums += keypad_reversed[letter]\n",
    "    \n",
    "    return nums"
   ]
  },
  {
   "cell_type": "code",
   "execution_count": 12,
   "metadata": {},
   "outputs": [],
   "source": [
    "name_phone[\"name_as_nums\"] = name_phone[\"name\"].apply(letters2nums)"
   ]
  },
  {
   "cell_type": "code",
   "execution_count": 13,
   "metadata": {},
   "outputs": [],
   "source": [
    "investigator = name_phone[name_phone[\"phone\"] == name_phone[\"name_as_nums\"]]"
   ]
  },
  {
   "cell_type": "code",
   "execution_count": 14,
   "metadata": {},
   "outputs": [
    {
     "data": {
      "text/html": [
       "<div>\n",
       "<style scoped>\n",
       "    .dataframe tbody tr th:only-of-type {\n",
       "        vertical-align: middle;\n",
       "    }\n",
       "\n",
       "    .dataframe tbody tr th {\n",
       "        vertical-align: top;\n",
       "    }\n",
       "\n",
       "    .dataframe thead th {\n",
       "        text-align: right;\n",
       "    }\n",
       "</style>\n",
       "<table border=\"1\" class=\"dataframe\">\n",
       "  <thead>\n",
       "    <tr style=\"text-align: right;\">\n",
       "      <th></th>\n",
       "      <th>name</th>\n",
       "      <th>phone</th>\n",
       "      <th>name_as_nums</th>\n",
       "    </tr>\n",
       "  </thead>\n",
       "  <tbody>\n",
       "    <tr>\n",
       "      <th>2187</th>\n",
       "      <td>Guttenberg</td>\n",
       "      <td>4888362374</td>\n",
       "      <td>4888362374</td>\n",
       "    </tr>\n",
       "  </tbody>\n",
       "</table>\n",
       "</div>"
      ],
      "text/plain": [
       "            name       phone name_as_nums\n",
       "2187  Guttenberg  4888362374   4888362374"
      ]
     },
     "execution_count": 14,
     "metadata": {},
     "output_type": "execute_result"
    }
   ],
   "source": [
    "investigator"
   ]
  },
  {
   "cell_type": "code",
   "execution_count": 15,
   "metadata": {},
   "outputs": [
    {
     "data": {
      "text/plain": [
       "customerid                    3188\n",
       "name                Sam Guttenberg\n",
       "address              221 Banker St\n",
       "citystatezip    Brooklyn, NY 11222\n",
       "birthdate               1998-05-30\n",
       "phone                 488-836-2374\n",
       "Name: 2187, dtype: object"
      ]
     },
     "execution_count": 15,
     "metadata": {},
     "output_type": "execute_result"
    }
   ],
   "source": [
    "customers.iloc[2187]"
   ]
  },
  {
   "cell_type": "markdown",
   "metadata": {},
   "source": [
    "## 2. contractor"
   ]
  },
  {
   "cell_type": "code",
   "execution_count": 16,
   "metadata": {},
   "outputs": [],
   "source": [
    "customers_split = customers.copy(True)"
   ]
  },
  {
   "cell_type": "code",
   "execution_count": 17,
   "metadata": {},
   "outputs": [],
   "source": [
    "customers_split[\"name_split\"] = customers['name'].apply(lambda x: x.split())"
   ]
  },
  {
   "cell_type": "code",
   "execution_count": 18,
   "metadata": {},
   "outputs": [],
   "source": [
    "customers_split = customers_split[customers_split[\"name_split\"].str.len() == 2]"
   ]
  },
  {
   "cell_type": "code",
   "execution_count": 19,
   "metadata": {},
   "outputs": [],
   "source": [
    "JD_in_NY = customers_split[(customers_split[\"name_split\"].str[0].str[0] == \"J\") &\n",
    "                           (customers_split[\"name_split\"].str[1].str[0] == \"D\") &\n",
    "                           (customers_split[\"citystatezip\"].str.contains(\"NY\"))]"
   ]
  },
  {
   "cell_type": "code",
   "execution_count": 20,
   "metadata": {},
   "outputs": [],
   "source": [
    "JD_in_NY = JD_in_NY.join(orders.set_index('customerid'), on='customerid',\n",
    "                         how='left')[[\"customerid\", \"name\", \"address\", \"citystatezip\", \"phone\", \"orderid\"]]"
   ]
  },
  {
   "cell_type": "code",
   "execution_count": 21,
   "metadata": {},
   "outputs": [],
   "source": [
    "JD_in_NY = JD_in_NY.join(items.set_index('orderid'), on='orderid',\n",
    "                         how='left', lsuffix=\"orders\", rsuffix=\"items\")[[\"customerid\", \"name\", \"address\", \"citystatezip\", \"phone\", \"sku\"]]"
   ]
  },
  {
   "cell_type": "code",
   "execution_count": 22,
   "metadata": {},
   "outputs": [],
   "source": [
    "JD_in_NY = JD_in_NY.join(products.set_index('sku'), on='sku',\n",
    "                         how='left', lsuffix=\"items\", rsuffix=\"products\")[[\"customerid\", \"name\", \"address\", \"citystatezip\", \"phone\", \"desc\"]]"
   ]
  },
  {
   "cell_type": "code",
   "execution_count": 23,
   "metadata": {},
   "outputs": [],
   "source": [
    "JD_in_NY = JD_in_NY.dropna(subset=[\"desc\"])"
   ]
  },
  {
   "cell_type": "code",
   "execution_count": 24,
   "metadata": {},
   "outputs": [],
   "source": [
    "JD_in_NY = JD_in_NY[(JD_in_NY[\"desc\"].str.lower().str.contains(\"bagel\")) |\n",
    "                    (JD_in_NY[\"desc\"].str.lower().str.contains(\"coffee\"))]"
   ]
  },
  {
   "cell_type": "code",
   "execution_count": 25,
   "metadata": {},
   "outputs": [],
   "source": [
    "desc = JD_in_NY.groupby(\n",
    "    [\"customerid\", \"name\", \"address\", \"citystatezip\", \"phone\"])[\"desc\"].sum()"
   ]
  },
  {
   "cell_type": "code",
   "execution_count": 30,
   "metadata": {},
   "outputs": [
    {
     "data": {
      "text/plain": [
       "customerid  name            address                   citystatezip                phone       \n",
       "1742        Jonathan Davis  862 Morris Park Ave       Bronx, NY 10462             585-510-8718                    Manual Coffee BowlCaraway Bagel\n",
       "4164        Jeremy Davis    134-10 Foch Blvd          South Ozone Park, NY 11420  212-771-8924    Coffee, DripVintage Coffee StrainerSesame Bagel\n",
       "5916        Joseph Davis    2385 Rear Cambreleng Ave  Bronx, NY 10458             585-645-6262             Mechanical Coffee SpatulaCaraway Bagel\n",
       "Name: desc, dtype: object"
      ]
     },
     "execution_count": 30,
     "metadata": {},
     "output_type": "execute_result"
    }
   ],
   "source": [
    "desc[desc.str.lower().str.contains(\"bagel\") &\n",
    "     desc.str.lower().str.contains(\"coffee\")]"
   ]
  },
  {
   "cell_type": "markdown",
   "metadata": {},
   "source": [
    "## 3. Aries born in the year of the Dog"
   ]
  },
  {
   "cell_type": "code",
   "execution_count": 46,
   "metadata": {},
   "outputs": [],
   "source": [
    "customers[\"birthdate\"] = customers[\"birthdate\"].astype(\n",
    "    \"datetime64[ns]\").apply(lambda x: pd.Timestamp(x))"
   ]
  },
  {
   "cell_type": "code",
   "execution_count": 52,
   "metadata": {},
   "outputs": [
    {
     "ename": "AttributeError",
     "evalue": "'Series' object has no attribute 'year'",
     "output_type": "error",
     "traceback": [
      "\u001b[0;31m---------------------------------------------------------------------------\u001b[0m",
      "\u001b[0;31mAttributeError\u001b[0m                            Traceback (most recent call last)",
      "\u001b[0;32m/var/folders/v5/53x7_hvj74lb5b96_h8sz9vw0000gp/T/ipykernel_39502/2149776945.py\u001b[0m in \u001b[0;36m?\u001b[0;34m()\u001b[0m\n\u001b[0;32m----> 1\u001b[0;31m \u001b[0mcustomers\u001b[0m\u001b[0;34m[\u001b[0m\u001b[0;34m\"birthdate\"\u001b[0m\u001b[0;34m]\u001b[0m\u001b[0;34m.\u001b[0m\u001b[0myear\u001b[0m\u001b[0;34m\u001b[0m\u001b[0;34m\u001b[0m\u001b[0m\n\u001b[0m",
      "\u001b[0;32m~/sigma-training/noahs-csv/venv/lib/python3.11/site-packages/pandas/core/generic.py\u001b[0m in \u001b[0;36m?\u001b[0;34m(self, name)\u001b[0m\n\u001b[1;32m   6292\u001b[0m             \u001b[0;32mand\u001b[0m \u001b[0mname\u001b[0m \u001b[0;32mnot\u001b[0m \u001b[0;32min\u001b[0m \u001b[0mself\u001b[0m\u001b[0;34m.\u001b[0m\u001b[0m_accessors\u001b[0m\u001b[0;34m\u001b[0m\u001b[0;34m\u001b[0m\u001b[0m\n\u001b[1;32m   6293\u001b[0m             \u001b[0;32mand\u001b[0m \u001b[0mself\u001b[0m\u001b[0;34m.\u001b[0m\u001b[0m_info_axis\u001b[0m\u001b[0;34m.\u001b[0m\u001b[0m_can_hold_identifiers_and_holds_name\u001b[0m\u001b[0;34m(\u001b[0m\u001b[0mname\u001b[0m\u001b[0;34m)\u001b[0m\u001b[0;34m\u001b[0m\u001b[0;34m\u001b[0m\u001b[0m\n\u001b[1;32m   6294\u001b[0m         ):\n\u001b[1;32m   6295\u001b[0m             \u001b[0;32mreturn\u001b[0m \u001b[0mself\u001b[0m\u001b[0;34m[\u001b[0m\u001b[0mname\u001b[0m\u001b[0;34m]\u001b[0m\u001b[0;34m\u001b[0m\u001b[0;34m\u001b[0m\u001b[0m\n\u001b[0;32m-> 6296\u001b[0;31m         \u001b[0;32mreturn\u001b[0m \u001b[0mobject\u001b[0m\u001b[0;34m.\u001b[0m\u001b[0m__getattribute__\u001b[0m\u001b[0;34m(\u001b[0m\u001b[0mself\u001b[0m\u001b[0;34m,\u001b[0m \u001b[0mname\u001b[0m\u001b[0;34m)\u001b[0m\u001b[0;34m\u001b[0m\u001b[0;34m\u001b[0m\u001b[0m\n\u001b[0m",
      "\u001b[0;31mAttributeError\u001b[0m: 'Series' object has no attribute 'year'"
     ]
    }
   ],
   "source": [
    "customers[\"birthdate\"]."
   ]
  },
  {
   "cell_type": "code",
   "execution_count": 33,
   "metadata": {},
   "outputs": [
    {
     "data": {
      "text/html": [
       "<div>\n",
       "<style scoped>\n",
       "    .dataframe tbody tr th:only-of-type {\n",
       "        vertical-align: middle;\n",
       "    }\n",
       "\n",
       "    .dataframe tbody tr th {\n",
       "        vertical-align: top;\n",
       "    }\n",
       "\n",
       "    .dataframe thead th {\n",
       "        text-align: right;\n",
       "    }\n",
       "</style>\n",
       "<table border=\"1\" class=\"dataframe\">\n",
       "  <thead>\n",
       "    <tr style=\"text-align: right;\">\n",
       "      <th></th>\n",
       "      <th>customerid</th>\n",
       "      <th>name</th>\n",
       "      <th>address</th>\n",
       "      <th>citystatezip</th>\n",
       "      <th>birthdate</th>\n",
       "      <th>phone</th>\n",
       "    </tr>\n",
       "  </thead>\n",
       "  <tbody>\n",
       "    <tr>\n",
       "      <th>1224</th>\n",
       "      <td>2225</td>\n",
       "      <td>Steven Curry</td>\n",
       "      <td>157-46 Foch Blvd</td>\n",
       "      <td>Jamaica, NY 11434</td>\n",
       "      <td>1946-10-06</td>\n",
       "      <td>315-731-8653</td>\n",
       "    </tr>\n",
       "    <tr>\n",
       "      <th>2756</th>\n",
       "      <td>3757</td>\n",
       "      <td>Veronica Murray</td>\n",
       "      <td>133-4 Foch Blvd</td>\n",
       "      <td>South Ozone Park, NY 11420</td>\n",
       "      <td>1961-02-05</td>\n",
       "      <td>516-210-0296</td>\n",
       "    </tr>\n",
       "    <tr>\n",
       "      <th>3163</th>\n",
       "      <td>4164</td>\n",
       "      <td>Jeremy Davis</td>\n",
       "      <td>134-10 Foch Blvd</td>\n",
       "      <td>South Ozone Park, NY 11420</td>\n",
       "      <td>1995-07-26</td>\n",
       "      <td>212-771-8924</td>\n",
       "    </tr>\n",
       "    <tr>\n",
       "      <th>4062</th>\n",
       "      <td>5063</td>\n",
       "      <td>Janice Terri Johnson</td>\n",
       "      <td>127-16 Foch Blvd</td>\n",
       "      <td>South Ozone Park, NY 11420</td>\n",
       "      <td>1985-12-31</td>\n",
       "      <td>680-261-5642</td>\n",
       "    </tr>\n",
       "    <tr>\n",
       "      <th>4491</th>\n",
       "      <td>5492</td>\n",
       "      <td>James Adams</td>\n",
       "      <td>168-28 Foch Blvd</td>\n",
       "      <td>Jamaica, NY 11434</td>\n",
       "      <td>1987-03-28</td>\n",
       "      <td>716-735-2141</td>\n",
       "    </tr>\n",
       "    <tr>\n",
       "      <th>4667</th>\n",
       "      <td>5668</td>\n",
       "      <td>Allison Rivera</td>\n",
       "      <td>130-2 Foch Blvd</td>\n",
       "      <td>South Ozone Park, NY 11420</td>\n",
       "      <td>1963-06-26</td>\n",
       "      <td>838-736-1530</td>\n",
       "    </tr>\n",
       "    <tr>\n",
       "      <th>7467</th>\n",
       "      <td>8468</td>\n",
       "      <td>Emily Hannah Cantu</td>\n",
       "      <td>147-28 Foch Blvd</td>\n",
       "      <td>Jamaica, NY 11436</td>\n",
       "      <td>1956-06-04</td>\n",
       "      <td>838-419-2415</td>\n",
       "    </tr>\n",
       "    <tr>\n",
       "      <th>9167</th>\n",
       "      <td>10168</td>\n",
       "      <td>Steven Jones</td>\n",
       "      <td>130-23 Foch Blvd</td>\n",
       "      <td>South Ozone Park, NY 11420</td>\n",
       "      <td>1975-10-12</td>\n",
       "      <td>914-540-6139</td>\n",
       "    </tr>\n",
       "  </tbody>\n",
       "</table>\n",
       "</div>"
      ],
      "text/plain": [
       "      customerid                  name           address  \\\n",
       "1224        2225          Steven Curry  157-46 Foch Blvd   \n",
       "2756        3757       Veronica Murray   133-4 Foch Blvd   \n",
       "3163        4164          Jeremy Davis  134-10 Foch Blvd   \n",
       "4062        5063  Janice Terri Johnson  127-16 Foch Blvd   \n",
       "4491        5492           James Adams  168-28 Foch Blvd   \n",
       "4667        5668        Allison Rivera   130-2 Foch Blvd   \n",
       "7467        8468    Emily Hannah Cantu  147-28 Foch Blvd   \n",
       "9167       10168          Steven Jones  130-23 Foch Blvd   \n",
       "\n",
       "                    citystatezip   birthdate         phone  \n",
       "1224           Jamaica, NY 11434  1946-10-06  315-731-8653  \n",
       "2756  South Ozone Park, NY 11420  1961-02-05  516-210-0296  \n",
       "3163  South Ozone Park, NY 11420  1995-07-26  212-771-8924  \n",
       "4062  South Ozone Park, NY 11420  1985-12-31  680-261-5642  \n",
       "4491           Jamaica, NY 11434  1987-03-28  716-735-2141  \n",
       "4667  South Ozone Park, NY 11420  1963-06-26  838-736-1530  \n",
       "7467           Jamaica, NY 11436  1956-06-04  838-419-2415  \n",
       "9167  South Ozone Park, NY 11420  1975-10-12  914-540-6139  "
      ]
     },
     "execution_count": 33,
     "metadata": {},
     "output_type": "execute_result"
    }
   ],
   "source": [
    "customers[(customers[\"citystatezip\"].str.contains(\"NY 11420\")) |\n",
    "          (customers[\"birthdate\"].ye)]"
   ]
  },
  {
   "cell_type": "code",
   "execution_count": null,
   "metadata": {},
   "outputs": [],
   "source": []
  }
 ],
 "metadata": {
  "kernelspec": {
   "display_name": "venv",
   "language": "python",
   "name": "python3"
  },
  "language_info": {
   "codemirror_mode": {
    "name": "ipython",
    "version": 3
   },
   "file_extension": ".py",
   "mimetype": "text/x-python",
   "name": "python",
   "nbconvert_exporter": "python",
   "pygments_lexer": "ipython3",
   "version": "3.11.7"
  }
 },
 "nbformat": 4,
 "nbformat_minor": 2
}
